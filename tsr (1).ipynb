{
 "cells": [
  {
   "cell_type": "code",
   "execution_count": 1,
   "id": "b31e3e1d",
   "metadata": {
    "scrolled": false
   },
   "outputs": [
    {
     "name": "stderr",
     "output_type": "stream",
     "text": [
      "2021-11-28 22:31:22.573207: W tensorflow/stream_executor/platform/default/dso_loader.cc:64] Could not load dynamic library 'libcudart.so.11.0'; dlerror: libcudart.so.11.0: cannot open shared object file: No such file or directory; LD_LIBRARY_PATH: /home/lahari/anaconda3/lib/python3.8/site-packages/cv2/../../lib64:\n",
      "2021-11-28 22:31:22.573265: I tensorflow/stream_executor/cuda/cudart_stub.cc:29] Ignore above cudart dlerror if you do not have a GPU set up on your machine.\n"
     ]
    }
   ],
   "source": [
    "import numpy as np \n",
    "import pandas as pd \n",
    "import matplotlib.pyplot as plt\n",
    "import cv2\n",
    "import tensorflow as tf\n",
    "from PIL import Image\n",
    "import os\n",
    "from sklearn.model_selection import train_test_split\n",
    "from tensorflow.keras.utils import to_categorical\n",
    "from keras.models import Sequential, load_model\n",
    "from keras.layers import Conv2D, MaxPool2D, Dense, Flatten, Dropout"
   ]
  },
  {
   "cell_type": "code",
   "execution_count": 2,
   "id": "7fcd3e69",
   "metadata": {},
   "outputs": [
    {
     "name": "stdout",
     "output_type": "stream",
     "text": [
      "/home/lahari/Downloads/dataset/train/0\n",
      "/home/lahari/Downloads/dataset/train/1\n",
      "/home/lahari/Downloads/dataset/train/2\n",
      "/home/lahari/Downloads/dataset/train/3\n",
      "/home/lahari/Downloads/dataset/train/4\n",
      "/home/lahari/Downloads/dataset/train/5\n",
      "/home/lahari/Downloads/dataset/train/6\n",
      "/home/lahari/Downloads/dataset/train/7\n",
      "/home/lahari/Downloads/dataset/train/8\n",
      "/home/lahari/Downloads/dataset/train/9\n",
      "/home/lahari/Downloads/dataset/train/10\n",
      "/home/lahari/Downloads/dataset/train/11\n",
      "/home/lahari/Downloads/dataset/train/12\n",
      "/home/lahari/Downloads/dataset/train/13\n",
      "/home/lahari/Downloads/dataset/train/14\n",
      "/home/lahari/Downloads/dataset/train/15\n",
      "/home/lahari/Downloads/dataset/train/16\n",
      "/home/lahari/Downloads/dataset/train/17\n",
      "/home/lahari/Downloads/dataset/train/18\n",
      "/home/lahari/Downloads/dataset/train/19\n",
      "/home/lahari/Downloads/dataset/train/20\n",
      "/home/lahari/Downloads/dataset/train/21\n",
      "/home/lahari/Downloads/dataset/train/22\n",
      "/home/lahari/Downloads/dataset/train/23\n",
      "/home/lahari/Downloads/dataset/train/24\n",
      "/home/lahari/Downloads/dataset/train/25\n",
      "/home/lahari/Downloads/dataset/train/26\n",
      "/home/lahari/Downloads/dataset/train/27\n",
      "/home/lahari/Downloads/dataset/train/28\n",
      "/home/lahari/Downloads/dataset/train/29\n",
      "/home/lahari/Downloads/dataset/train/30\n",
      "/home/lahari/Downloads/dataset/train/31\n",
      "/home/lahari/Downloads/dataset/train/32\n",
      "/home/lahari/Downloads/dataset/train/33\n",
      "/home/lahari/Downloads/dataset/train/34\n",
      "/home/lahari/Downloads/dataset/train/35\n",
      "/home/lahari/Downloads/dataset/train/36\n",
      "/home/lahari/Downloads/dataset/train/37\n",
      "/home/lahari/Downloads/dataset/train/38\n",
      "/home/lahari/Downloads/dataset/train/39\n",
      "/home/lahari/Downloads/dataset/train/40\n",
      "/home/lahari/Downloads/dataset/train/41\n",
      "/home/lahari/Downloads/dataset/train/42\n"
     ]
    }
   ],
   "source": [
    "data = []\n",
    "labels = []\n",
    "classes = 43\n",
    "os.chdir(\"/home/lahari/Downloads/dataset\")\n",
    "cur_path = os.getcwd()\n",
    "\n",
    "#Retrieving the images and their labels \n",
    "for i in range(classes):\n",
    "    path = os.path.join(cur_path,'train',str(i))\n",
    "    images = os.listdir(path)\n",
    "    print(path)\n",
    "    for a in images:\n",
    "        try:\n",
    "            image = Image.open(path + '/'+ a)\n",
    "            image = image.resize((30,30))\n",
    "            image = np.array(image)\n",
    "            #sim = Image.fromarray(image)\n",
    "            data.append(image)\n",
    "            labels.append(i)\n",
    "        except:\n",
    "            print(\"Error loading image\")\n",
    "\n",
    "#Converting lists into numpy arrays\n",
    "data = np.array(data)\n",
    "labels = np.array(labels)"
   ]
  },
  {
   "cell_type": "code",
   "execution_count": 3,
   "id": "900060d6",
   "metadata": {},
   "outputs": [
    {
     "name": "stdout",
     "output_type": "stream",
     "text": [
      "(39209, 30, 30, 3) (39209,)\n",
      "(31367, 30, 30, 3) (7842, 30, 30, 3) (31367,) (7842,)\n"
     ]
    }
   ],
   "source": [
    "print(data.shape, labels.shape)\n",
    "#Splitting training and testing dataset\n",
    "X_train, X_test, y_train, y_test = train_test_split(data, labels, test_size=0.2, random_state=42)\n",
    "\n",
    "print(X_train.shape, X_test.shape, y_train.shape, y_test.shape)\n",
    "\n",
    "#Converting the labels into one hot encoding\n",
    "y_train = to_categorical(y_train, 43)\n",
    "y_test = to_categorical(y_test, 43)"
   ]
  },
  {
   "cell_type": "code",
   "execution_count": 5,
   "id": "545ed5e4",
   "metadata": {},
   "outputs": [],
   "source": [
    "model = Sequential()\n",
    "model.add(Conv2D(filters=32, kernel_size=(5,5), activation='relu', input_shape=X_train.shape[1:]))\n",
    "model.add(Conv2D(filters=32, kernel_size=(5,5), activation='relu'))\n",
    "model.add(MaxPool2D(pool_size=(2, 2)))\n",
    "model.add(Dropout(rate=0.25))\n",
    "model.add(Conv2D(filters=64, kernel_size=(3, 3), activation='relu'))\n",
    "model.add(Conv2D(filters=64, kernel_size=(3, 3), activation='relu'))\n",
    "model.add(MaxPool2D(pool_size=(2, 2)))\n",
    "model.add(Dropout(rate=0.25))\n",
    "model.add(Flatten())\n",
    "model.add(Dense(256, activation='relu'))\n",
    "model.add(Dropout(rate=0.5))\n",
    "model.add(Dense(43, activation='softmax'))\n",
    "\n",
    "#Compilation of the model\n",
    "model.compile(loss='categorical_crossentropy', optimizer='adam', metrics=['accuracy'])"
   ]
  },
  {
   "cell_type": "code",
   "execution_count": 6,
   "id": "a60111a6",
   "metadata": {},
   "outputs": [
    {
     "name": "stderr",
     "output_type": "stream",
     "text": [
      "2021-11-28 22:44:26.087858: I tensorflow/compiler/mlir/mlir_graph_optimization_pass.cc:185] None of the MLIR Optimization Passes are enabled (registered 2)\n"
     ]
    },
    {
     "name": "stdout",
     "output_type": "stream",
     "text": [
      "Epoch 1/15\n",
      "981/981 [==============================] - 129s 130ms/step - loss: 1.7800 - accuracy: 0.5573 - val_loss: 0.3168 - val_accuracy: 0.9257\n",
      "Epoch 2/15\n",
      "981/981 [==============================] - 131s 133ms/step - loss: 0.4831 - accuracy: 0.8647 - val_loss: 0.1710 - val_accuracy: 0.9580\n",
      "Epoch 3/15\n",
      "981/981 [==============================] - 127s 129ms/step - loss: 0.3378 - accuracy: 0.9065 - val_loss: 0.0949 - val_accuracy: 0.9767\n",
      "Epoch 4/15\n",
      "981/981 [==============================] - 125s 128ms/step - loss: 0.2574 - accuracy: 0.9280 - val_loss: 0.1006 - val_accuracy: 0.9750\n",
      "Epoch 5/15\n",
      "981/981 [==============================] - 126s 129ms/step - loss: 0.2308 - accuracy: 0.9371 - val_loss: 0.0542 - val_accuracy: 0.9856\n",
      "Epoch 6/15\n",
      "981/981 [==============================] - 127s 129ms/step - loss: 0.2196 - accuracy: 0.9402 - val_loss: 0.1526 - val_accuracy: 0.9605\n",
      "Epoch 7/15\n",
      "981/981 [==============================] - 129s 131ms/step - loss: 0.2091 - accuracy: 0.9448 - val_loss: 0.0440 - val_accuracy: 0.9892\n",
      "Epoch 8/15\n",
      "981/981 [==============================] - 124s 126ms/step - loss: 0.1938 - accuracy: 0.9489 - val_loss: 0.0411 - val_accuracy: 0.9899\n",
      "Epoch 9/15\n",
      "981/981 [==============================] - 117s 119ms/step - loss: 0.1836 - accuracy: 0.9554 - val_loss: 0.0415 - val_accuracy: 0.9890\n",
      "Epoch 10/15\n",
      "981/981 [==============================] - 127s 130ms/step - loss: 0.2074 - accuracy: 0.9488 - val_loss: 0.0432 - val_accuracy: 0.9884\n",
      "Epoch 11/15\n",
      "981/981 [==============================] - 130s 133ms/step - loss: 0.2204 - accuracy: 0.9470 - val_loss: 0.0782 - val_accuracy: 0.9841\n",
      "Epoch 12/15\n",
      "981/981 [==============================] - 131s 133ms/step - loss: 0.1965 - accuracy: 0.9528 - val_loss: 0.0400 - val_accuracy: 0.9895\n",
      "Epoch 13/15\n",
      "981/981 [==============================] - 135s 137ms/step - loss: 0.1930 - accuracy: 0.9534 - val_loss: 0.0437 - val_accuracy: 0.9894\n",
      "Epoch 14/15\n",
      "981/981 [==============================] - 132s 135ms/step - loss: 0.1873 - accuracy: 0.9557 - val_loss: 0.0419 - val_accuracy: 0.9911\n",
      "Epoch 15/15\n",
      "981/981 [==============================] - 136s 139ms/step - loss: 0.1849 - accuracy: 0.9547 - val_loss: 0.0519 - val_accuracy: 0.9879\n"
     ]
    }
   ],
   "source": [
    "epochs = 15\n",
    "history = model.fit(X_train, y_train, batch_size=32, epochs=epochs, validation_data=(X_test, y_test))\n",
    "model.save(\"my_model.h5\")"
   ]
  },
  {
   "cell_type": "code",
   "execution_count": 7,
   "id": "e8a57612",
   "metadata": {},
   "outputs": [
    {
     "data": {
      "image/png": "[encoded data removed]",
      "text/plain": [
       "<Figure size 432x288 with 1 Axes>"
      ]
     },
     "metadata": {
      "needs_background": "light"
     },
     "output_type": "display_data"
    },
    {
     "data": {
      "image/png": "[encoded data removed]",
      "text/plain": [
       "<Figure size 432x288 with 1 Axes>"
      ]
     },
     "metadata": {
      "needs_background": "light"
     },
     "output_type": "display_data"
    }
   ],
   "source": [
    "plt.figure(0)\n",
    "plt.plot(history.history['accuracy'], label='training accuracy')\n",
    "plt.plot(history.history['val_accuracy'], label='val accuracy')\n",
    "plt.title('Accuracy')\n",
    "plt.xlabel('epochs')\n",
    "plt.ylabel('accuracy')\n",
    "plt.legend()\n",
    "plt.show()\n",
    "\n",
    "plt.figure(1)\n",
    "plt.plot(history.history['loss'], label='training loss')\n",
    "plt.plot(history.history['val_loss'], label='val loss')\n",
    "plt.title('Loss')\n",
    "plt.xlabel('epochs')\n",
    "plt.ylabel('loss')\n",
    "plt.legend()\n",
    "plt.show()"
   ]
  },
  {
   "cell_type": "code",
   "execution_count": 8,
   "id": "4415816f",
   "metadata": {},
   "outputs": [],
   "source": [
    "y_test = pd.read_csv('Test.csv')\n",
    "\n",
    "labels = y_test[\"ClassId\"].values\n",
    "imgs = y_test[\"Path\"].values\n",
    "\n",
    "data=[]\n",
    "\n",
    "for img in imgs:\n",
    "    image = Image.open(img)\n",
    "    image = image.resize((30,30))\n",
    "    data.append(np.array(image))\n",
    "\n",
    "X_test=np.array(data)\n",
    "\n",
    "pred=np.argmax(model.predict(X_test), axis=1)"
   ]
  },
  {
   "cell_type": "code",
   "execution_count": 9,
   "id": "73eb15c5",
   "metadata": {},
   "outputs": [
    {
     "name": "stdout",
     "output_type": "stream",
     "text": [
      "0.9565320665083136\n"
     ]
    }
   ],
   "source": [
    "from sklearn.metrics import accuracy_score\n",
    "print(accuracy_score(labels, pred))"
   ]
  },
  {
   "cell_type": "code",
   "execution_count": 10,
   "id": "1c2e759e",
   "metadata": {},
   "outputs": [],
   "source": [
    "model.save('traffic_classifier.h5')"
   ]
  },
  {
   "cell_type": "code",
   "execution_count": 11,
   "id": "5b5ce15b",
   "metadata": {},
   "outputs": [
    {
     "name": "stdout",
     "output_type": "stream",
     "text": [
      "Speed limit (60km/h)\n",
      "Turn right ahead\n",
      "Road work\n",
      "Speed limit (30km/h)\n",
      "Priority road\n",
      "Speed limit (70km/h)\n"
     ]
    }
   ],
   "source": [
    "import tkinter as tk\n",
    "from tkinter import filedialog\n",
    "from tkinter import *\n",
    "from PIL import ImageTk, Image\n",
    "\n",
    "import numpy\n",
    "#load the trained model to classify sign\n",
    "from keras.models import load_model\n",
    "model = load_model('traffic_classifier.h5')\n",
    "\n",
    "#dictionary to label all traffic signs class.\n",
    "classes = { 1:'Speed limit (20km/h)',\n",
    "            2:'Speed limit (30km/h)', \n",
    "            3:'Speed limit (50km/h)', \n",
    "            4:'Speed limit (60km/h)', \n",
    "            5:'Speed limit (70km/h)', \n",
    "            6:'Speed limit (80km/h)', \n",
    "            7:'End of speed limit (80km/h)', \n",
    "            8:'Speed limit (100km/h)', \n",
    "            9:'Speed limit (120km/h)', \n",
    "            10:'No passing', \n",
    "            11:'No passing veh over 3.5 tons', \n",
    "            12:'Right-of-way at intersection', \n",
    "            13:'Priority road', \n",
    "            14:'Yield', \n",
    "            15:'Stop', \n",
    "            16:'No vehicles', \n",
    "            17:'Veh > 3.5 tons prohibited', \n",
    "            18:'No entry', \n",
    "            19:'General caution', \n",
    "            20:'Dangerous curve left', \n",
    "            21:'Dangerous curve right', \n",
    "            22:'Double curve', \n",
    "            23:'Bumpy road', \n",
    "            24:'Slippery road', \n",
    "            25:'Road narrows on the right', \n",
    "            26:'Road work', \n",
    "            27:'Traffic signals', \n",
    "            28:'Pedestrians', \n",
    "            29:'Children crossing', \n",
    "            30:'Bicycles crossing', \n",
    "            31:'Beware of ice/snow',\n",
    "            32:'Wild animals crossing', \n",
    "            33:'End speed + passing limits', \n",
    "            34:'Turn right ahead', \n",
    "            35:'Turn left ahead', \n",
    "            36:'Ahead only', \n",
    "            37:'Go straight or right', \n",
    "            38:'Go straight or left', \n",
    "            39:'Keep right', \n",
    "            40:'Keep left', \n",
    "            41:'Roundabout mandatory', \n",
    "            42:'End of no passing', \n",
    "            43:'End no passing veh > 3.5 tons' }\n",
    "\n",
    "#initialise GUI\n",
    "top=tk.Tk()\n",
    "top.geometry('800x600')\n",
    "top.title('Traffic sign classification')\n",
    "top.configure(background='#CDCDCD')\n",
    "\n",
    "label=Label(top,background='#CDCDCD', font=('arial',15,'bold'))\n",
    "sign_image = Label(top)\n",
    "\n",
    "def classify(file_path):\n",
    "    global label_packed\n",
    "    image = Image.open(file_path)\n",
    "    image = image.resize((30,30))\n",
    "    image = numpy.expand_dims(image, axis=0)\n",
    "    image = numpy.array(image)\n",
    "    pred = np.argmax(model.predict([image])[0], axis=0)\n",
    "    sign = classes[pred+1]\n",
    "    print(sign)\n",
    "    label.configure(foreground='#011638', text=sign) \n",
    "\n",
    "def show_classify_button(file_path):\n",
    "    classify_b=Button(top,text=\"Classify Image\",command=lambda: classify(file_path),padx=10,pady=5)\n",
    "    classify_b.configure(background='#364156', foreground='white',font=('arial',10,'bold'))\n",
    "    classify_b.place(relx=0.79,rely=0.46)\n",
    "\n",
    "def upload_image():\n",
    "    try:\n",
    "        file_path=filedialog.askopenfilename()\n",
    "        uploaded=Image.open(file_path)\n",
    "        uploaded.thumbnail(((top.winfo_width()/2.25),(top.winfo_height()/2.25)))\n",
    "        im=ImageTk.PhotoImage(uploaded)\n",
    "\n",
    "        sign_image.configure(image=im)\n",
    "        sign_image.image=im\n",
    "        label.configure(text='')\n",
    "        show_classify_button(file_path)\n",
    "    except:\n",
    "        pass\n",
    "\n",
    "upload=Button(top,text=\"Upload an image\",command=upload_image,padx=10,pady=5)\n",
    "upload.configure(background='#364156', foreground='white',font=('arial',10,'bold'))\n",
    "\n",
    "upload.pack(side=BOTTOM,pady=50)\n",
    "sign_image.pack(side=BOTTOM,expand=True)\n",
    "label.pack(side=BOTTOM,expand=True)\n",
    "heading = Label(top, text=\"Know Your Traffic Sign\",pady=20, font=('arial',20,'bold'))\n",
    "heading.configure(background='#CDCDCD',foreground='#364156')\n",
    "heading.pack()\n",
    "top.mainloop()"
   ]
  },
  {
   "cell_type": "code",
   "execution_count": null,
   "id": "6c09cdba",
   "metadata": {},
   "outputs": [],
   "source": []
  }
 ],
 "metadata": {
  "kernelspec": {
   "display_name": "Python 3 (ipykernel)",
   "language": "python",
   "name": "python3"
  },
  "language_info": {
   "codemirror_mode": {
    "name": "ipython",
    "version": 3
   },
   "file_extension": ".py",
   "mimetype": "text/x-python",
   "name": "python",
   "nbconvert_exporter": "python",
   "pygments_lexer": "ipython3",
   "version": "3.8.8"
  }
 },
 "nbformat": 4,
 "nbformat_minor": 5
}
